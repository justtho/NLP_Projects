{
 "cells": [
  {
   "cell_type": "code",
   "execution_count": 1,
   "metadata": {},
   "outputs": [
    {
     "data": {
      "application/vnd.jupyter.widget-view+json": {
       "model_id": "e5711189e6d44d32a90e4e1a9c16db63",
       "version_major": 2,
       "version_minor": 0
      },
      "text/plain": [
       "VBox()"
      ]
     },
     "metadata": {},
     "output_type": "display_data"
    },
    {
     "name": "stdout",
     "output_type": "stream",
     "text": [
      "Starting Spark application\n"
     ]
    },
    {
     "data": {
      "text/html": [
       "<table>\n",
       "<tr><th>ID</th><th>YARN Application ID</th><th>Kind</th><th>State</th><th>Spark UI</th><th>Driver log</th><th>Current session?</th></tr><tr><td>0</td><td>application_1581774917760_0001</td><td>pyspark</td><td>idle</td><td><a target=\"_blank\" href=\"http://ip-172-31-67-211.ec2.internal:20888/proxy/application_1581774917760_0001/\">Link</a></td><td><a target=\"_blank\" href=\"http://ip-172-31-65-15.ec2.internal:8042/node/containerlogs/container_1581774917760_0001_01_000001/livy\">Link</a></td><td>✔</td></tr></table>"
      ],
      "text/plain": [
       "<IPython.core.display.HTML object>"
      ]
     },
     "metadata": {},
     "output_type": "display_data"
    },
    {
     "data": {
      "application/vnd.jupyter.widget-view+json": {
       "model_id": "",
       "version_major": 2,
       "version_minor": 0
      },
      "text/plain": [
       "FloatProgress(value=0.0, bar_style='info', description='Progress:', layout=Layout(height='25px', width='50%'),…"
      ]
     },
     "metadata": {},
     "output_type": "display_data"
    },
    {
     "name": "stdout",
     "output_type": "stream",
     "text": [
      "SparkSession available as 'spark'.\n"
     ]
    },
    {
     "data": {
      "application/vnd.jupyter.widget-view+json": {
       "model_id": "",
       "version_major": 2,
       "version_minor": 0
      },
      "text/plain": [
       "FloatProgress(value=0.0, bar_style='info', description='Progress:', layout=Layout(height='25px', width='50%'),…"
      ]
     },
     "metadata": {},
     "output_type": "display_data"
    }
   ],
   "source": [
    "from pyspark.sql.types import StructType, StructField, IntegerType, LongType, FloatType, StringType"
   ]
  },
  {
   "cell_type": "code",
   "execution_count": 2,
   "metadata": {},
   "outputs": [
    {
     "data": {
      "application/vnd.jupyter.widget-view+json": {
       "model_id": "4ea631bb8987402b9cdf628bbc9e9b32",
       "version_major": 2,
       "version_minor": 0
      },
      "text/plain": [
       "VBox()"
      ]
     },
     "metadata": {},
     "output_type": "display_data"
    },
    {
     "data": {
      "application/vnd.jupyter.widget-view+json": {
       "model_id": "",
       "version_major": 2,
       "version_minor": 0
      },
      "text/plain": [
       "FloatProgress(value=0.0, bar_style='info', description='Progress:', layout=Layout(height='25px', width='50%'),…"
      ]
     },
     "metadata": {},
     "output_type": "display_data"
    }
   ],
   "source": [
    "cdrSchema = StructType([\n",
    "        \n",
    "    StructField(\"globaleventid\"\t,\t IntegerType() \t,\tTrue)\t,\n",
    "    StructField(\"monthdate\"\t,\tIntegerType()\t,\tTrue)\t,\n",
    "    StructField(\"monthyear\"\t,\tIntegerType()\t,\tTrue)\t,\n",
    "    StructField(\"year\"\t,\tIntegerType()\t,\tTrue)\t,\n",
    "    StructField(\"fractiondate\"\t,\tFloatType()\t,\tTrue)\t,\n",
    "    StructField(\"actor1code\"\t,\tStringType()\t,\tTrue)\t,\n",
    "    StructField(\"actor1name\"\t,\tStringType()\t,\tTrue)\t,\n",
    "    StructField(\"actor1countrycode\"\t,\tStringType()\t,\tTrue)\t,\n",
    "    StructField(\"actor1knowngroupcode\"\t,\tStringType()\t,\tTrue)\t,\n",
    "    StructField(\"actor1ethniccode\"\t,\tStringType()\t,\tTrue)\t,\n",
    "    StructField(\"actor1religion1code\"\t,\tStringType()\t,\tTrue)\t,\n",
    "    StructField(\"actor1religion2code\"\t,\tStringType()\t,\tTrue)\t,\n",
    "    StructField(\"actor1type1code\"\t,\tStringType()\t,\tTrue)\t,\n",
    "    StructField(\"actor1type2code\"\t,\tStringType()\t,\tTrue)\t,\n",
    "    StructField(\"actor1type3code\"\t,\tStringType()\t,\tTrue)\t,\n",
    "    StructField(\"actor2code\"\t,\tStringType()\t,\tTrue)\t,\n",
    "    StructField(\"actor2name\"\t,\tStringType()\t,\tTrue)\t,\n",
    "    StructField(\"actor2countrycode\"\t,\tStringType()\t,\tTrue)\t,\n",
    "    StructField(\"actor2knowngroupcode\"\t,\tStringType()\t,\tTrue)\t,\n",
    "    StructField(\"actor2ethniccode\"\t,\tStringType()\t,\tTrue)\t,\n",
    "    StructField(\"actor2religion1code\"\t,\tStringType()\t,\tTrue)\t,\n",
    "    StructField(\"actor2religion2code\"\t,\tStringType()\t,\tTrue)\t,\n",
    "    StructField(\"actor2type1code\"\t,\tStringType()\t,\tTrue)\t,\n",
    "    StructField(\"actor2type2code\"\t,\tStringType()\t,\tTrue)\t,\n",
    "    StructField(\"actor2type3code\"\t,\tStringType()\t,\tTrue)\t,\n",
    "    StructField(\"isrootevent\"\t,\tIntegerType() \t,\tTrue)\t,\n",
    "    StructField(\"eventcode\"\t,\tIntegerType() \t,\tTrue)\t,\n",
    "    StructField(\"eventbasecode\"\t,\tIntegerType() \t,\tTrue)\t,\n",
    "    StructField(\"eventrootcode\"\t,\tIntegerType() \t,\tTrue)\t,\n",
    "    StructField(\"quadclass\"\t,\tIntegerType()\t,\tTrue)\t,\n",
    "    StructField(\"goldsteinscale\"\t,\tFloatType()\t,\tTrue)\t,\n",
    "    StructField(\"nummentions\"\t,\tIntegerType()\t,\tTrue)\t,\n",
    "    StructField(\"numsources\"\t,\tIntegerType()\t,\tTrue)\t,\n",
    "    StructField(\"numarticles\"\t,\tIntegerType()\t,\tTrue)\t,\n",
    "    StructField(\"avgtone\"\t,\tFloatType()\t,\tTrue)\t,\n",
    "    StructField(\"actor1geo_type\"\t,\tIntegerType()\t,\tTrue)\t,\n",
    "    StructField(\"actor1geo_fullname\"\t,\tStringType()\t,\tTrue)\t,\n",
    "    StructField(\"actor1geo_countrycode\"\t,\tStringType()\t,\tTrue)\t,\n",
    "    StructField(\"actor1geo_adm1code\"\t,\tStringType()\t,\tTrue)\t,\n",
    "    StructField(\"actor1geo_lat\"\t,\tFloatType()\t,\tTrue)\t,\n",
    "    StructField(\"actor1geo_long\"\t,\tFloatType()\t,\tTrue)\t,\n",
    "    StructField(\"actor1geo_featureid\"\t,\tIntegerType()\t,\tTrue)\t,\n",
    "    StructField(\"actor2geo_type\"\t,\tIntegerType()\t,\tTrue)\t,\n",
    "    StructField(\"actor2geo_fullname\"\t,\tStringType()\t,\tTrue)\t,\n",
    "    StructField(\"actor2geo_countrycode\"\t,\tStringType()\t,\tTrue)\t,\n",
    "    StructField(\"actor2geo_adm1code\"\t,\tStringType()\t,\tTrue)\t,\n",
    "    StructField(\"actor2geo_lat\"\t,\tFloatType()\t,\tTrue)\t,\n",
    "    StructField(\"actor2geo_long\"\t,\tFloatType()\t,\tTrue)\t,\n",
    "    StructField(\"actor2geo_featureid\"\t,\tIntegerType()\t,\tTrue)\t,\n",
    "    StructField(\"actiongeo_type\"\t,\tIntegerType()\t,\tTrue)\t,\n",
    "    StructField(\"actiongeo_fullname\"\t,\tStringType()\t,\tTrue)\t,\n",
    "    StructField(\"actiongeo_countrycode\"\t,\tStringType()\t,\tTrue)\t,\n",
    "    StructField(\"actiongeo_adm1code\"\t,\tStringType()\t,\tTrue)\t,\n",
    "    StructField(\"actiongeo_lat\"\t,\tFloatType()\t,\tTrue)\t,\n",
    "    StructField(\"actiongeo_long\"\t,\tFloatType()\t,\tTrue)\t,\n",
    "    StructField(\"actiongeo_featureid\"\t,\tIntegerType()\t,\tTrue)\t,\n",
    "    StructField(\"dateadded\"\t,\tIntegerType()\t,\tTrue)\t,\n",
    "    StructField(\"sourceurl\"\t,\tStringType()\t,\tTrue)\t\n",
    "\n",
    "\n",
    "])"
   ]
  },
  {
   "cell_type": "code",
   "execution_count": 6,
   "metadata": {},
   "outputs": [
    {
     "data": {
      "application/vnd.jupyter.widget-view+json": {
       "model_id": "17d1dec29c1a4e64b6b1f610970552f1",
       "version_major": 2,
       "version_minor": 0
      },
      "text/plain": [
       "VBox()"
      ]
     },
     "metadata": {},
     "output_type": "display_data"
    },
    {
     "data": {
      "application/vnd.jupyter.widget-view+json": {
       "model_id": "",
       "version_major": 2,
       "version_minor": 0
      },
      "text/plain": [
       "FloatProgress(value=0.0, bar_style='info', description='Progress:', layout=Layout(height='25px', width='50%'),…"
      ]
     },
     "metadata": {},
     "output_type": "display_data"
    }
   ],
   "source": [
    "File1 = \"s3://gdelt-open-data/events/2019*\"\n",
    "cdr1 = (spark.read\n",
    "    .option(\"header\", \"true\")\n",
    "    .option(\"delimiter\", \"\\t\")\n",
    "    .schema(cdrSchema)\n",
    "    .csv(File1)\n",
    ")"
   ]
  },
  {
   "cell_type": "code",
   "execution_count": 7,
   "metadata": {},
   "outputs": [
    {
     "data": {
      "application/vnd.jupyter.widget-view+json": {
       "model_id": "e60011d6c1be4b24abbf80f4b86535b4",
       "version_major": 2,
       "version_minor": 0
      },
      "text/plain": [
       "VBox()"
      ]
     },
     "metadata": {},
     "output_type": "display_data"
    },
    {
     "data": {
      "application/vnd.jupyter.widget-view+json": {
       "model_id": "",
       "version_major": 2,
       "version_minor": 0
      },
      "text/plain": [
       "FloatProgress(value=0.0, bar_style='info', description='Progress:', layout=Layout(height='25px', width='50%'),…"
      ]
     },
     "metadata": {},
     "output_type": "display_data"
    }
   ],
   "source": [
    "File2 = \"s3://gdelt-open-data/events/2018*\"\n",
    "cdr2 = (spark.read\n",
    "    .option(\"header\", \"true\")\n",
    "    .option(\"delimiter\", \"\\t\")\n",
    "    .schema(cdrSchema)\n",
    "    .csv(File1)\n",
    ")"
   ]
  },
  {
   "cell_type": "code",
   "execution_count": 8,
   "metadata": {},
   "outputs": [
    {
     "data": {
      "application/vnd.jupyter.widget-view+json": {
       "model_id": "c72616f3f21740e190cd37d01e4092d4",
       "version_major": 2,
       "version_minor": 0
      },
      "text/plain": [
       "VBox()"
      ]
     },
     "metadata": {},
     "output_type": "display_data"
    },
    {
     "data": {
      "application/vnd.jupyter.widget-view+json": {
       "model_id": "",
       "version_major": 2,
       "version_minor": 0
      },
      "text/plain": [
       "FloatProgress(value=0.0, bar_style='info', description='Progress:', layout=Layout(height='25px', width='50%'),…"
      ]
     },
     "metadata": {},
     "output_type": "display_data"
    }
   ],
   "source": [
    "cdr = cdr1.union(cdr2)"
   ]
  },
  {
   "cell_type": "code",
   "execution_count": 9,
   "metadata": {},
   "outputs": [
    {
     "data": {
      "application/vnd.jupyter.widget-view+json": {
       "model_id": "19f007106896410ab63b970345584797",
       "version_major": 2,
       "version_minor": 0
      },
      "text/plain": [
       "VBox()"
      ]
     },
     "metadata": {},
     "output_type": "display_data"
    },
    {
     "data": {
      "application/vnd.jupyter.widget-view+json": {
       "model_id": "",
       "version_major": 2,
       "version_minor": 0
      },
      "text/plain": [
       "FloatProgress(value=0.0, bar_style='info', description='Progress:', layout=Layout(height='25px', width='50%'),…"
      ]
     },
     "metadata": {},
     "output_type": "display_data"
    }
   ],
   "source": [
    "cdr_s=cdr.select('sourceurl')"
   ]
  },
  {
   "cell_type": "code",
   "execution_count": 10,
   "metadata": {},
   "outputs": [
    {
     "data": {
      "application/vnd.jupyter.widget-view+json": {
       "model_id": "092d4ecd186d47ba8fd4d583b814a83d",
       "version_major": 2,
       "version_minor": 0
      },
      "text/plain": [
       "VBox()"
      ]
     },
     "metadata": {},
     "output_type": "display_data"
    },
    {
     "data": {
      "application/vnd.jupyter.widget-view+json": {
       "model_id": "",
       "version_major": 2,
       "version_minor": 0
      },
      "text/plain": [
       "FloatProgress(value=0.0, bar_style='info', description='Progress:', layout=Layout(height='25px', width='50%'),…"
      ]
     },
     "metadata": {},
     "output_type": "display_data"
    },
    {
     "name": "stdout",
     "output_type": "stream",
     "text": [
      "[Row(sourceurl='http://www.newstribune.com/news/local/story/2019/feb/26/jury-johnson-county-hear-case-woman-accused-darnell-grays-death/767435/'), Row(sourceurl='https://www.freemalaysiatoday.com/category/highlight/2019/02/27/australias-labour-abuse-crackdown-will-protect-slaves-says-official/')]"
     ]
    }
   ],
   "source": [
    "cdr_s.head(2)"
   ]
  },
  {
   "cell_type": "code",
   "execution_count": 11,
   "metadata": {},
   "outputs": [
    {
     "data": {
      "application/vnd.jupyter.widget-view+json": {
       "model_id": "fd164d33b3794ef7bb7b24d8e5e6b75a",
       "version_major": 2,
       "version_minor": 0
      },
      "text/plain": [
       "VBox()"
      ]
     },
     "metadata": {},
     "output_type": "display_data"
    },
    {
     "data": {
      "application/vnd.jupyter.widget-view+json": {
       "model_id": "",
       "version_major": 2,
       "version_minor": 0
      },
      "text/plain": [
       "FloatProgress(value=0.0, bar_style='info', description='Progress:', layout=Layout(height='25px', width='50%'),…"
      ]
     },
     "metadata": {},
     "output_type": "display_data"
    }
   ],
   "source": [
    "gdeltDf = cdr_s.coalesce(1)"
   ]
  },
  {
   "cell_type": "code",
   "execution_count": 12,
   "metadata": {},
   "outputs": [
    {
     "data": {
      "application/vnd.jupyter.widget-view+json": {
       "model_id": "441681104b4c41529bb33601577685a3",
       "version_major": 2,
       "version_minor": 0
      },
      "text/plain": [
       "VBox()"
      ]
     },
     "metadata": {},
     "output_type": "display_data"
    },
    {
     "data": {
      "application/vnd.jupyter.widget-view+json": {
       "model_id": "",
       "version_major": 2,
       "version_minor": 0
      },
      "text/plain": [
       "FloatProgress(value=0.0, bar_style='info', description='Progress:', layout=Layout(height='25px', width='50%'),…"
      ]
     },
     "metadata": {},
     "output_type": "display_data"
    }
   ],
   "source": [
    "gdeltDf.write.save(\"s3://datacat-bucket/gdeltsource/\", format=\"csv\")"
   ]
  },
  {
   "cell_type": "code",
   "execution_count": null,
   "metadata": {},
   "outputs": [],
   "source": []
  }
 ],
 "metadata": {
  "kernelspec": {
   "display_name": "PySpark",
   "language": "",
   "name": "pysparkkernel"
  },
  "language_info": {
   "codemirror_mode": {
    "name": "python",
    "version": 2
   },
   "mimetype": "text/x-python",
   "name": "pyspark",
   "pygments_lexer": "python2"
  }
 },
 "nbformat": 4,
 "nbformat_minor": 4
}
