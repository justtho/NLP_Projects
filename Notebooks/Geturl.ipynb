{
 "nbformat": 4,
 "nbformat_minor": 2,
 "metadata": {
  "language_info": {
   "name": "python",
   "codemirror_mode": {
    "name": "ipython",
    "version": 3
   },
   "version": "3.6.4-final"
  },
  "orig_nbformat": 2,
  "file_extension": ".py",
  "mimetype": "text/x-python",
  "name": "python",
  "npconvert_exporter": "python",
  "pygments_lexer": "ipython3",
  "version": 3,
  "kernelspec": {
   "name": "python36464bitprojectspipenv0630c0b4075e423d973f64b3f567221d",
   "display_name": "Python 3.6.4 64-bit ('projects': pipenv)"
  }
 },
 "cells": [
  {
   "cell_type": "code",
   "execution_count": 1,
   "metadata": {},
   "outputs": [],
   "source": [
    "import pandas as pd"
   ]
  },
  {
   "cell_type": "code",
   "execution_count": 2,
   "metadata": {},
   "outputs": [],
   "source": [
    "df=pd.read_csv(r\"C:/Sharpest_Minds/projects/NLP_projects/data_files/part-00000-ef634aab-c0f7-4af5-8f64-e27685d8d397-c000.csv\")"
   ]
  },
  {
   "cell_type": "code",
   "execution_count": 3,
   "metadata": {},
   "outputs": [
    {
     "data": {
      "text/html": "<div>\n<style scoped>\n    .dataframe tbody tr th:only-of-type {\n        vertical-align: middle;\n    }\n\n    .dataframe tbody tr th {\n        vertical-align: top;\n    }\n\n    .dataframe thead th {\n        text-align: right;\n    }\n</style>\n<table border=\"1\" class=\"dataframe\">\n  <thead>\n    <tr style=\"text-align: right;\">\n      <th></th>\n      <th>http://www.newstribune.com/news/local/story/2019/feb/26/jury-johnson-county-hear-case-woman-accused-darnell-grays-death/767435/</th>\n    </tr>\n  </thead>\n  <tbody>\n    <tr>\n      <th>0</th>\n      <td>https://www.freemalaysiatoday.com/category/hig...</td>\n    </tr>\n    <tr>\n      <th>1</th>\n      <td>https://www.freemalaysiatoday.com/category/hig...</td>\n    </tr>\n    <tr>\n      <th>2</th>\n      <td>https://www.msn.com/en-au/news/other/bellamys-...</td>\n    </tr>\n    <tr>\n      <th>3</th>\n      <td>https://www.msn.com/en-au/news/other/bellamys-...</td>\n    </tr>\n    <tr>\n      <th>4</th>\n      <td>https://www.ksmu.org/post/emma-thompson-quits-...</td>\n    </tr>\n  </tbody>\n</table>\n</div>",
      "text/plain": "  http://www.newstribune.com/news/local/story/2019/feb/26/jury-johnson-county-hear-case-woman-accused-darnell-grays-death/767435/\n0  https://www.freemalaysiatoday.com/category/hig...                                                                             \n1  https://www.freemalaysiatoday.com/category/hig...                                                                             \n2  https://www.msn.com/en-au/news/other/bellamys-...                                                                             \n3  https://www.msn.com/en-au/news/other/bellamys-...                                                                             \n4  https://www.ksmu.org/post/emma-thompson-quits-...                                                                             "
     },
     "execution_count": 3,
     "metadata": {},
     "output_type": "execute_result"
    }
   ],
   "source": [
    "df.head()"
   ]
  },
  {
   "cell_type": "code",
   "execution_count": 4,
   "metadata": {},
   "outputs": [],
   "source": [
    "df.columns = ['sourceurl']"
   ]
  },
  {
   "cell_type": "code",
   "execution_count": 5,
   "metadata": {},
   "outputs": [
    {
     "data": {
      "text/html": "<div>\n<style scoped>\n    .dataframe tbody tr th:only-of-type {\n        vertical-align: middle;\n    }\n\n    .dataframe tbody tr th {\n        vertical-align: top;\n    }\n\n    .dataframe thead th {\n        text-align: right;\n    }\n</style>\n<table border=\"1\" class=\"dataframe\">\n  <thead>\n    <tr style=\"text-align: right;\">\n      <th></th>\n      <th>sourceurl</th>\n    </tr>\n  </thead>\n  <tbody>\n    <tr>\n      <th>0</th>\n      <td>https://www.freemalaysiatoday.com/category/hig...</td>\n    </tr>\n    <tr>\n      <th>1</th>\n      <td>https://www.freemalaysiatoday.com/category/hig...</td>\n    </tr>\n    <tr>\n      <th>2</th>\n      <td>https://www.msn.com/en-au/news/other/bellamys-...</td>\n    </tr>\n    <tr>\n      <th>3</th>\n      <td>https://www.msn.com/en-au/news/other/bellamys-...</td>\n    </tr>\n    <tr>\n      <th>4</th>\n      <td>https://www.ksmu.org/post/emma-thompson-quits-...</td>\n    </tr>\n  </tbody>\n</table>\n</div>",
      "text/plain": "                                           sourceurl\n0  https://www.freemalaysiatoday.com/category/hig...\n1  https://www.freemalaysiatoday.com/category/hig...\n2  https://www.msn.com/en-au/news/other/bellamys-...\n3  https://www.msn.com/en-au/news/other/bellamys-...\n4  https://www.ksmu.org/post/emma-thompson-quits-..."
     },
     "execution_count": 5,
     "metadata": {},
     "output_type": "execute_result"
    }
   ],
   "source": [
    "df.head()"
   ]
  },
  {
   "cell_type": "code",
   "execution_count": 6,
   "metadata": {},
   "outputs": [],
   "source": [
    "urls = df['sourceurl'].unique()"
   ]
  },
  {
   "cell_type": "code",
   "execution_count": 7,
   "metadata": {},
   "outputs": [],
   "source": [
    "from w3lib.url import url_query_cleaner\n",
    "from url_normalize import url_normalize\n",
    "\n",
    "def canonical_url(u):\n",
    "    u = url_normalize(u)\n",
    "    u = url_query_cleaner(u,parameterlist = ['utm_source','utm_medium','utm_campaign','utm_term','utm_content'],remove=True)\n",
    "\n",
    "    if u.startswith(\"http://\"):\n",
    "        u = u[7:]\n",
    "    if u.startswith(\"https://\"):\n",
    "        u = u[8:]\n",
    "    if u.startswith(\"www.\"):\n",
    "        u = u[4:]\n",
    "    if u.endswith(\"/\"):\n",
    "        u = u[:-1]\n",
    "    return u\n",
    "\n",
    "url_list = list(map(canonical_url,urls))"
   ]
  },
  {
   "cell_type": "code",
   "execution_count": 8,
   "metadata": {},
   "outputs": [],
   "source": [
    "def split_url(url):\n",
    "    lis=[]\n",
    "    for i in url:\n",
    "        c =urlparse(i)\n",
    "        lis.append(c)\n",
    "    return lis"
   ]
  },
  {
   "cell_type": "code",
   "execution_count": 9,
   "metadata": {},
   "outputs": [
    {
     "data": {
      "text/html": "<div>\n<style scoped>\n    .dataframe tbody tr th:only-of-type {\n        vertical-align: middle;\n    }\n\n    .dataframe tbody tr th {\n        vertical-align: top;\n    }\n\n    .dataframe thead th {\n        text-align: right;\n    }\n</style>\n<table border=\"1\" class=\"dataframe\">\n  <thead>\n    <tr style=\"text-align: right;\">\n      <th></th>\n      <th>0</th>\n    </tr>\n  </thead>\n  <tbody>\n    <tr>\n      <th>0</th>\n      <td>freemalaysiatoday.com/category/highlight/2019/...</td>\n    </tr>\n    <tr>\n      <th>1</th>\n      <td>msn.com/en-au/news/other/bellamys-australia-1s...</td>\n    </tr>\n    <tr>\n      <th>2</th>\n      <td>ksmu.org/post/emma-thompson-quits-film-after-s...</td>\n    </tr>\n    <tr>\n      <th>3</th>\n      <td>govtech.com/security/California-AG-Wants-to-Ad...</td>\n    </tr>\n    <tr>\n      <th>4</th>\n      <td>newsmax.com/finance/streettalk/macys-jobs-rest...</td>\n    </tr>\n  </tbody>\n</table>\n</div>",
      "text/plain": "                                                   0\n0  freemalaysiatoday.com/category/highlight/2019/...\n1  msn.com/en-au/news/other/bellamys-australia-1s...\n2  ksmu.org/post/emma-thompson-quits-film-after-s...\n3  govtech.com/security/California-AG-Wants-to-Ad...\n4  newsmax.com/finance/streettalk/macys-jobs-rest..."
     },
     "execution_count": 9,
     "metadata": {},
     "output_type": "execute_result"
    }
   ],
   "source": [
    "df2=pd.DataFrame(url_list)\n",
    "df2.head()"
   ]
  },
  {
   "cell_type": "code",
   "execution_count": 10,
   "metadata": {},
   "outputs": [],
   "source": [
    "df2.columns = ['urlname']"
   ]
  },
  {
   "cell_type": "code",
   "execution_count": 11,
   "metadata": {},
   "outputs": [],
   "source": [
    "new_df = pd.DataFrame(df2.urlname.str.split('/').tolist())"
   ]
  },
  {
   "cell_type": "code",
   "execution_count": 12,
   "metadata": {},
   "outputs": [
    {
     "data": {
      "text/html": "<div>\n<style scoped>\n    .dataframe tbody tr th:only-of-type {\n        vertical-align: middle;\n    }\n\n    .dataframe tbody tr th {\n        vertical-align: top;\n    }\n\n    .dataframe thead th {\n        text-align: right;\n    }\n</style>\n<table border=\"1\" class=\"dataframe\">\n  <thead>\n    <tr style=\"text-align: right;\">\n      <th></th>\n      <th>0</th>\n      <th>1</th>\n      <th>2</th>\n      <th>3</th>\n      <th>4</th>\n      <th>5</th>\n      <th>6</th>\n      <th>7</th>\n      <th>8</th>\n      <th>9</th>\n      <th>...</th>\n      <th>19</th>\n      <th>20</th>\n      <th>21</th>\n      <th>22</th>\n      <th>23</th>\n      <th>24</th>\n      <th>25</th>\n      <th>26</th>\n      <th>27</th>\n      <th>28</th>\n    </tr>\n  </thead>\n  <tbody>\n    <tr>\n      <th>0</th>\n      <td>freemalaysiatoday.com</td>\n      <td>category</td>\n      <td>highlight</td>\n      <td>2019</td>\n      <td>02</td>\n      <td>27</td>\n      <td>australias-labour-abuse-crackdown-will-protect...</td>\n      <td>None</td>\n      <td>None</td>\n      <td>None</td>\n      <td>...</td>\n      <td>None</td>\n      <td>None</td>\n      <td>None</td>\n      <td>None</td>\n      <td>None</td>\n      <td>None</td>\n      <td>None</td>\n      <td>None</td>\n      <td>None</td>\n      <td>None</td>\n    </tr>\n    <tr>\n      <th>1</th>\n      <td>msn.com</td>\n      <td>en-au</td>\n      <td>news</td>\n      <td>other</td>\n      <td>bellamys-australia-1st-half-profit-falls-amid-...</td>\n      <td>ar-BBU7PCU</td>\n      <td>None</td>\n      <td>None</td>\n      <td>None</td>\n      <td>None</td>\n      <td>...</td>\n      <td>None</td>\n      <td>None</td>\n      <td>None</td>\n      <td>None</td>\n      <td>None</td>\n      <td>None</td>\n      <td>None</td>\n      <td>None</td>\n      <td>None</td>\n      <td>None</td>\n    </tr>\n    <tr>\n      <th>2</th>\n      <td>ksmu.org</td>\n      <td>post</td>\n      <td>emma-thompson-quits-film-after-studio-hires-ex...</td>\n      <td>None</td>\n      <td>None</td>\n      <td>None</td>\n      <td>None</td>\n      <td>None</td>\n      <td>None</td>\n      <td>None</td>\n      <td>...</td>\n      <td>None</td>\n      <td>None</td>\n      <td>None</td>\n      <td>None</td>\n      <td>None</td>\n      <td>None</td>\n      <td>None</td>\n      <td>None</td>\n      <td>None</td>\n      <td>None</td>\n    </tr>\n    <tr>\n      <th>3</th>\n      <td>govtech.com</td>\n      <td>security</td>\n      <td>California-AG-Wants-to-Add-Teeth-to-State-Data...</td>\n      <td>None</td>\n      <td>None</td>\n      <td>None</td>\n      <td>None</td>\n      <td>None</td>\n      <td>None</td>\n      <td>None</td>\n      <td>...</td>\n      <td>None</td>\n      <td>None</td>\n      <td>None</td>\n      <td>None</td>\n      <td>None</td>\n      <td>None</td>\n      <td>None</td>\n      <td>None</td>\n      <td>None</td>\n      <td>None</td>\n    </tr>\n    <tr>\n      <th>4</th>\n      <td>newsmax.com</td>\n      <td>finance</td>\n      <td>streettalk</td>\n      <td>macys-jobs-restructuring-store</td>\n      <td>2019</td>\n      <td>02</td>\n      <td>26</td>\n      <td>id</td>\n      <td>904528</td>\n      <td>None</td>\n      <td>...</td>\n      <td>None</td>\n      <td>None</td>\n      <td>None</td>\n      <td>None</td>\n      <td>None</td>\n      <td>None</td>\n      <td>None</td>\n      <td>None</td>\n      <td>None</td>\n      <td>None</td>\n    </tr>\n  </tbody>\n</table>\n<p>5 rows × 29 columns</p>\n</div>",
      "text/plain": "                      0         1   \\\n0  freemalaysiatoday.com  category   \n1                msn.com     en-au   \n2               ksmu.org      post   \n3            govtech.com  security   \n4            newsmax.com   finance   \n\n                                                  2   \\\n0                                          highlight   \n1                                               news   \n2  emma-thompson-quits-film-after-studio-hires-ex...   \n3  California-AG-Wants-to-Add-Teeth-to-State-Data...   \n4                                         streettalk   \n\n                               3   \\\n0                            2019   \n1                           other   \n2                            None   \n3                            None   \n4  macys-jobs-restructuring-store   \n\n                                                  4           5   \\\n0                                                 02          27   \n1  bellamys-australia-1st-half-profit-falls-amid-...  ar-BBU7PCU   \n2                                               None        None   \n3                                               None        None   \n4                                               2019          02   \n\n                                                  6     7       8     9   ...  \\\n0  australias-labour-abuse-crackdown-will-protect...  None    None  None  ...   \n1                                               None  None    None  None  ...   \n2                                               None  None    None  None  ...   \n3                                               None  None    None  None  ...   \n4                                                 26    id  904528  None  ...   \n\n     19    20    21    22    23    24    25    26    27    28  \n0  None  None  None  None  None  None  None  None  None  None  \n1  None  None  None  None  None  None  None  None  None  None  \n2  None  None  None  None  None  None  None  None  None  None  \n3  None  None  None  None  None  None  None  None  None  None  \n4  None  None  None  None  None  None  None  None  None  None  \n\n[5 rows x 29 columns]"
     },
     "execution_count": 12,
     "metadata": {},
     "output_type": "execute_result"
    }
   ],
   "source": [
    "new_df.head()"
   ]
  },
  {
   "cell_type": "code",
   "execution_count": 13,
   "metadata": {},
   "outputs": [
    {
     "data": {
      "text/plain": "RangeIndex(start=0, stop=29, step=1)"
     },
     "execution_count": 13,
     "metadata": {},
     "output_type": "execute_result"
    }
   ],
   "source": [
    "new_df.columns"
   ]
  },
  {
   "cell_type": "code",
   "execution_count": 15,
   "metadata": {},
   "outputs": [],
   "source": [
    "new_df = new_df.set_axis(['col1', 'col2', 'col3', 'col4', 'col5', 'col6', 'col7', 'col8', 'col9', 'col10', 'col11', 'col12', 'col13', 'col14', 'col15', 'col16', 'col17', 'col18', 'col19', 'col20', 'col21', 'col22', 'col23', 'col24','col25', 'col26', 'col27', 'col28', 'col29'], axis=1, inplace=False)"
   ]
  },
  {
   "cell_type": "code",
   "execution_count": 16,
   "metadata": {},
   "outputs": [
    {
     "data": {
      "text/html": "<div>\n<style scoped>\n    .dataframe tbody tr th:only-of-type {\n        vertical-align: middle;\n    }\n\n    .dataframe tbody tr th {\n        vertical-align: top;\n    }\n\n    .dataframe thead th {\n        text-align: right;\n    }\n</style>\n<table border=\"1\" class=\"dataframe\">\n  <thead>\n    <tr style=\"text-align: right;\">\n      <th></th>\n      <th>col1</th>\n      <th>col2</th>\n      <th>col3</th>\n      <th>col4</th>\n      <th>col5</th>\n      <th>col6</th>\n      <th>col7</th>\n      <th>col8</th>\n      <th>col9</th>\n      <th>col10</th>\n      <th>...</th>\n      <th>col20</th>\n      <th>col21</th>\n      <th>col22</th>\n      <th>col23</th>\n      <th>col24</th>\n      <th>col25</th>\n      <th>col26</th>\n      <th>col27</th>\n      <th>col28</th>\n      <th>col29</th>\n    </tr>\n  </thead>\n  <tbody>\n    <tr>\n      <th>0</th>\n      <td>freemalaysiatoday.com</td>\n      <td>category</td>\n      <td>highlight</td>\n      <td>2019</td>\n      <td>02</td>\n      <td>27</td>\n      <td>australias-labour-abuse-crackdown-will-protect...</td>\n      <td>None</td>\n      <td>None</td>\n      <td>None</td>\n      <td>...</td>\n      <td>None</td>\n      <td>None</td>\n      <td>None</td>\n      <td>None</td>\n      <td>None</td>\n      <td>None</td>\n      <td>None</td>\n      <td>None</td>\n      <td>None</td>\n      <td>None</td>\n    </tr>\n    <tr>\n      <th>1</th>\n      <td>msn.com</td>\n      <td>en-au</td>\n      <td>news</td>\n      <td>other</td>\n      <td>bellamys-australia-1st-half-profit-falls-amid-...</td>\n      <td>ar-BBU7PCU</td>\n      <td>None</td>\n      <td>None</td>\n      <td>None</td>\n      <td>None</td>\n      <td>...</td>\n      <td>None</td>\n      <td>None</td>\n      <td>None</td>\n      <td>None</td>\n      <td>None</td>\n      <td>None</td>\n      <td>None</td>\n      <td>None</td>\n      <td>None</td>\n      <td>None</td>\n    </tr>\n    <tr>\n      <th>2</th>\n      <td>ksmu.org</td>\n      <td>post</td>\n      <td>emma-thompson-quits-film-after-studio-hires-ex...</td>\n      <td>None</td>\n      <td>None</td>\n      <td>None</td>\n      <td>None</td>\n      <td>None</td>\n      <td>None</td>\n      <td>None</td>\n      <td>...</td>\n      <td>None</td>\n      <td>None</td>\n      <td>None</td>\n      <td>None</td>\n      <td>None</td>\n      <td>None</td>\n      <td>None</td>\n      <td>None</td>\n      <td>None</td>\n      <td>None</td>\n    </tr>\n    <tr>\n      <th>3</th>\n      <td>govtech.com</td>\n      <td>security</td>\n      <td>California-AG-Wants-to-Add-Teeth-to-State-Data...</td>\n      <td>None</td>\n      <td>None</td>\n      <td>None</td>\n      <td>None</td>\n      <td>None</td>\n      <td>None</td>\n      <td>None</td>\n      <td>...</td>\n      <td>None</td>\n      <td>None</td>\n      <td>None</td>\n      <td>None</td>\n      <td>None</td>\n      <td>None</td>\n      <td>None</td>\n      <td>None</td>\n      <td>None</td>\n      <td>None</td>\n    </tr>\n    <tr>\n      <th>4</th>\n      <td>newsmax.com</td>\n      <td>finance</td>\n      <td>streettalk</td>\n      <td>macys-jobs-restructuring-store</td>\n      <td>2019</td>\n      <td>02</td>\n      <td>26</td>\n      <td>id</td>\n      <td>904528</td>\n      <td>None</td>\n      <td>...</td>\n      <td>None</td>\n      <td>None</td>\n      <td>None</td>\n      <td>None</td>\n      <td>None</td>\n      <td>None</td>\n      <td>None</td>\n      <td>None</td>\n      <td>None</td>\n      <td>None</td>\n    </tr>\n  </tbody>\n</table>\n<p>5 rows × 29 columns</p>\n</div>",
      "text/plain": "                    col1      col2  \\\n0  freemalaysiatoday.com  category   \n1                msn.com     en-au   \n2               ksmu.org      post   \n3            govtech.com  security   \n4            newsmax.com   finance   \n\n                                                col3  \\\n0                                          highlight   \n1                                               news   \n2  emma-thompson-quits-film-after-studio-hires-ex...   \n3  California-AG-Wants-to-Add-Teeth-to-State-Data...   \n4                                         streettalk   \n\n                             col4  \\\n0                            2019   \n1                           other   \n2                            None   \n3                            None   \n4  macys-jobs-restructuring-store   \n\n                                                col5        col6  \\\n0                                                 02          27   \n1  bellamys-australia-1st-half-profit-falls-amid-...  ar-BBU7PCU   \n2                                               None        None   \n3                                               None        None   \n4                                               2019          02   \n\n                                                col7  col8    col9 col10  ...  \\\n0  australias-labour-abuse-crackdown-will-protect...  None    None  None  ...   \n1                                               None  None    None  None  ...   \n2                                               None  None    None  None  ...   \n3                                               None  None    None  None  ...   \n4                                                 26    id  904528  None  ...   \n\n  col20 col21 col22 col23 col24 col25 col26 col27 col28 col29  \n0  None  None  None  None  None  None  None  None  None  None  \n1  None  None  None  None  None  None  None  None  None  None  \n2  None  None  None  None  None  None  None  None  None  None  \n3  None  None  None  None  None  None  None  None  None  None  \n4  None  None  None  None  None  None  None  None  None  None  \n\n[5 rows x 29 columns]"
     },
     "execution_count": 16,
     "metadata": {},
     "output_type": "execute_result"
    }
   ],
   "source": [
    "new_df.head()"
   ]
  },
  {
   "cell_type": "code",
   "execution_count": 17,
   "metadata": {},
   "outputs": [],
   "source": [
    "new_df.drop(new_df.iloc[:, 2:29], inplace = True, axis = 1) "
   ]
  },
  {
   "cell_type": "code",
   "execution_count": 18,
   "metadata": {},
   "outputs": [
    {
     "data": {
      "text/html": "<div>\n<style scoped>\n    .dataframe tbody tr th:only-of-type {\n        vertical-align: middle;\n    }\n\n    .dataframe tbody tr th {\n        vertical-align: top;\n    }\n\n    .dataframe thead th {\n        text-align: right;\n    }\n</style>\n<table border=\"1\" class=\"dataframe\">\n  <thead>\n    <tr style=\"text-align: right;\">\n      <th></th>\n      <th>col1</th>\n      <th>col2</th>\n    </tr>\n  </thead>\n  <tbody>\n    <tr>\n      <th>0</th>\n      <td>freemalaysiatoday.com</td>\n      <td>category</td>\n    </tr>\n    <tr>\n      <th>1</th>\n      <td>msn.com</td>\n      <td>en-au</td>\n    </tr>\n    <tr>\n      <th>2</th>\n      <td>ksmu.org</td>\n      <td>post</td>\n    </tr>\n    <tr>\n      <th>3</th>\n      <td>govtech.com</td>\n      <td>security</td>\n    </tr>\n    <tr>\n      <th>4</th>\n      <td>newsmax.com</td>\n      <td>finance</td>\n    </tr>\n  </tbody>\n</table>\n</div>",
      "text/plain": "                    col1      col2\n0  freemalaysiatoday.com  category\n1                msn.com     en-au\n2               ksmu.org      post\n3            govtech.com  security\n4            newsmax.com   finance"
     },
     "execution_count": 18,
     "metadata": {},
     "output_type": "execute_result"
    }
   ],
   "source": [
    "new_df.head()"
   ]
  },
  {
   "cell_type": "code",
   "execution_count": 19,
   "metadata": {},
   "outputs": [],
   "source": [
    "new_df = new_df.set_axis(['website', 'category'], axis=1, inplace=False)"
   ]
  },
  {
   "cell_type": "code",
   "execution_count": 20,
   "metadata": {},
   "outputs": [
    {
     "data": {
      "text/plain": "dailymail.co.uk          87116\nmsn.com                  70737\nbusiness-standard.com    68745\nnews.yahoo.com           55242\nmenafn.com               45595\n                         ...  \nwickedhorror.com             1\nkoltfm.iheart.com            1\nlatinlawyer.com              1\nsouthaustralia.com           1\n963realcountry.com           1\nName: website, Length: 36737, dtype: int64"
     },
     "execution_count": 20,
     "metadata": {},
     "output_type": "execute_result"
    }
   ],
   "source": [
    "new_df['website'].value_counts()"
   ]
  },
  {
   "cell_type": "code",
   "execution_count": 21,
   "metadata": {},
   "outputs": [
    {
     "data": {
      "text/plain": "website\ndailymail.co.uk                87116\nmsn.com                        70737\nbusiness-standard.com          68745\nnews.yahoo.com                 55242\nmenafn.com                     45595\nallafrica.com                  38547\nsfgate.com                     36883\nthenews.com.pk                 36200\nreuters.com                    34976\ntimesofindia.indiatimes.com    34044\nthehindu.com                   30938\nwashingtonpost.com             30471\nnbcnews.com                    29817\nindianexpress.com              29772\nxinhuanet.com                  26664\ncbc.ca                         24548\ntheguardian.com                23767\nfinance.yahoo.com              22990\nexpress.co.uk                  22691\nfoxnews.com                    22338\nName: category, dtype: int64"
     },
     "execution_count": 21,
     "metadata": {},
     "output_type": "execute_result"
    }
   ],
   "source": [
    "new_df.groupby('website')['category'].count().sort_values(ascending=False).head(20)"
   ]
  },
  {
   "cell_type": "code",
   "execution_count": 22,
   "metadata": {},
   "outputs": [],
   "source": [
    "dns_df = new_df.website.str.split('.')"
   ]
  },
  {
   "cell_type": "code",
   "execution_count": 23,
   "metadata": {},
   "outputs": [
    {
     "data": {
      "text/plain": "0          [freemalaysiatoday, com]\n1                        [msn, com]\n2                       [ksmu, org]\n3                    [govtech, com]\n4                    [newsmax, com]\n                     ...           \n8917256                 [wisn, com]\n8917257            [xinhuanet, com]\n8917258           [alaraby, co, uk]\n8917259        [lubbockonline, com]\n8917260         [citizentv, co, ke]\nName: website, Length: 8917261, dtype: object"
     },
     "execution_count": 23,
     "metadata": {},
     "output_type": "execute_result"
    }
   ],
   "source": [
    "dns_df"
   ]
  },
  {
   "cell_type": "code",
   "execution_count": 24,
   "metadata": {},
   "outputs": [],
   "source": [
    "new_df1 =new_df[new_df.category  == \"news\"]"
   ]
  },
  {
   "cell_type": "code",
   "execution_count": 25,
   "metadata": {},
   "outputs": [],
   "source": [
    "new = new_df[\"website\"].str.split(\".\", n = -1, expand = True) "
   ]
  },
  {
   "cell_type": "code",
   "execution_count": 26,
   "metadata": {},
   "outputs": [
    {
     "data": {
      "text/html": "<div>\n<style scoped>\n    .dataframe tbody tr th:only-of-type {\n        vertical-align: middle;\n    }\n\n    .dataframe tbody tr th {\n        vertical-align: top;\n    }\n\n    .dataframe thead th {\n        text-align: right;\n    }\n</style>\n<table border=\"1\" class=\"dataframe\">\n  <thead>\n    <tr style=\"text-align: right;\">\n      <th></th>\n      <th>0</th>\n      <th>1</th>\n      <th>2</th>\n      <th>3</th>\n      <th>4</th>\n    </tr>\n  </thead>\n  <tbody>\n    <tr>\n      <th>0</th>\n      <td>freemalaysiatoday</td>\n      <td>com</td>\n      <td>None</td>\n      <td>None</td>\n      <td>None</td>\n    </tr>\n    <tr>\n      <th>1</th>\n      <td>msn</td>\n      <td>com</td>\n      <td>None</td>\n      <td>None</td>\n      <td>None</td>\n    </tr>\n    <tr>\n      <th>2</th>\n      <td>ksmu</td>\n      <td>org</td>\n      <td>None</td>\n      <td>None</td>\n      <td>None</td>\n    </tr>\n    <tr>\n      <th>3</th>\n      <td>govtech</td>\n      <td>com</td>\n      <td>None</td>\n      <td>None</td>\n      <td>None</td>\n    </tr>\n    <tr>\n      <th>4</th>\n      <td>newsmax</td>\n      <td>com</td>\n      <td>None</td>\n      <td>None</td>\n      <td>None</td>\n    </tr>\n    <tr>\n      <th>...</th>\n      <td>...</td>\n      <td>...</td>\n      <td>...</td>\n      <td>...</td>\n      <td>...</td>\n    </tr>\n    <tr>\n      <th>8917256</th>\n      <td>wisn</td>\n      <td>com</td>\n      <td>None</td>\n      <td>None</td>\n      <td>None</td>\n    </tr>\n    <tr>\n      <th>8917257</th>\n      <td>xinhuanet</td>\n      <td>com</td>\n      <td>None</td>\n      <td>None</td>\n      <td>None</td>\n    </tr>\n    <tr>\n      <th>8917258</th>\n      <td>alaraby</td>\n      <td>co</td>\n      <td>uk</td>\n      <td>None</td>\n      <td>None</td>\n    </tr>\n    <tr>\n      <th>8917259</th>\n      <td>lubbockonline</td>\n      <td>com</td>\n      <td>None</td>\n      <td>None</td>\n      <td>None</td>\n    </tr>\n    <tr>\n      <th>8917260</th>\n      <td>citizentv</td>\n      <td>co</td>\n      <td>ke</td>\n      <td>None</td>\n      <td>None</td>\n    </tr>\n  </tbody>\n</table>\n<p>8917261 rows × 5 columns</p>\n</div>",
      "text/plain": "                         0    1     2     3     4\n0        freemalaysiatoday  com  None  None  None\n1                      msn  com  None  None  None\n2                     ksmu  org  None  None  None\n3                  govtech  com  None  None  None\n4                  newsmax  com  None  None  None\n...                    ...  ...   ...   ...   ...\n8917256               wisn  com  None  None  None\n8917257          xinhuanet  com  None  None  None\n8917258            alaraby   co    uk  None  None\n8917259      lubbockonline  com  None  None  None\n8917260          citizentv   co    ke  None  None\n\n[8917261 rows x 5 columns]"
     },
     "execution_count": 26,
     "metadata": {},
     "output_type": "execute_result"
    }
   ],
   "source": [
    "new"
   ]
  },
  {
   "cell_type": "code",
   "execution_count": 27,
   "metadata": {},
   "outputs": [],
   "source": [
    "new_df[\"domain\"]= new[1] "
   ]
  },
  {
   "cell_type": "code",
   "execution_count": 28,
   "metadata": {},
   "outputs": [
    {
     "data": {
      "text/html": "<div>\n<style scoped>\n    .dataframe tbody tr th:only-of-type {\n        vertical-align: middle;\n    }\n\n    .dataframe tbody tr th {\n        vertical-align: top;\n    }\n\n    .dataframe thead th {\n        text-align: right;\n    }\n</style>\n<table border=\"1\" class=\"dataframe\">\n  <thead>\n    <tr style=\"text-align: right;\">\n      <th></th>\n      <th>website</th>\n      <th>category</th>\n      <th>domain</th>\n    </tr>\n  </thead>\n  <tbody>\n    <tr>\n      <th>0</th>\n      <td>freemalaysiatoday.com</td>\n      <td>category</td>\n      <td>com</td>\n    </tr>\n    <tr>\n      <th>1</th>\n      <td>msn.com</td>\n      <td>en-au</td>\n      <td>com</td>\n    </tr>\n    <tr>\n      <th>2</th>\n      <td>ksmu.org</td>\n      <td>post</td>\n      <td>org</td>\n    </tr>\n    <tr>\n      <th>3</th>\n      <td>govtech.com</td>\n      <td>security</td>\n      <td>com</td>\n    </tr>\n    <tr>\n      <th>4</th>\n      <td>newsmax.com</td>\n      <td>finance</td>\n      <td>com</td>\n    </tr>\n    <tr>\n      <th>...</th>\n      <td>...</td>\n      <td>...</td>\n      <td>...</td>\n    </tr>\n    <tr>\n      <th>8917256</th>\n      <td>wisn.com</td>\n      <td>article</td>\n      <td>com</td>\n    </tr>\n    <tr>\n      <th>8917257</th>\n      <td>xinhuanet.com</td>\n      <td>english</td>\n      <td>com</td>\n    </tr>\n    <tr>\n      <th>8917258</th>\n      <td>alaraby.co.uk</td>\n      <td>english</td>\n      <td>co</td>\n    </tr>\n    <tr>\n      <th>8917259</th>\n      <td>lubbockonline.com</td>\n      <td>news</td>\n      <td>com</td>\n    </tr>\n    <tr>\n      <th>8917260</th>\n      <td>citizentv.co.ke</td>\n      <td>news</td>\n      <td>co</td>\n    </tr>\n  </tbody>\n</table>\n<p>8917261 rows × 3 columns</p>\n</div>",
      "text/plain": "                       website  category domain\n0        freemalaysiatoday.com  category    com\n1                      msn.com     en-au    com\n2                     ksmu.org      post    org\n3                  govtech.com  security    com\n4                  newsmax.com   finance    com\n...                        ...       ...    ...\n8917256               wisn.com   article    com\n8917257          xinhuanet.com   english    com\n8917258          alaraby.co.uk   english     co\n8917259      lubbockonline.com      news    com\n8917260        citizentv.co.ke      news     co\n\n[8917261 rows x 3 columns]"
     },
     "execution_count": 28,
     "metadata": {},
     "output_type": "execute_result"
    }
   ],
   "source": [
    "new_df"
   ]
  },
  {
   "cell_type": "code",
   "execution_count": 29,
   "metadata": {},
   "outputs": [],
   "source": [
    "ca_df =new_df[new_df.domain  == \"ca\"]"
   ]
  },
  {
   "cell_type": "code",
   "execution_count": 30,
   "metadata": {},
   "outputs": [
    {
     "data": {
      "text/plain": "(98235, 3)"
     },
     "execution_count": 30,
     "metadata": {},
     "output_type": "execute_result"
    }
   ],
   "source": [
    "ca_df.shape"
   ]
  },
  {
   "cell_type": "code",
   "execution_count": 31,
   "metadata": {},
   "outputs": [],
   "source": [
    "news_ca_df =ca_df[ca_df.category  == \"news\"]"
   ]
  },
  {
   "cell_type": "code",
   "execution_count": 32,
   "metadata": {},
   "outputs": [
    {
     "data": {
      "text/plain": "cbc.ca                   22716\nglobalnews.ca             7487\nthechronicleherald.ca     1561\ngrandforksgazette.ca      1200\npentictonherald.ca         614\n                         ...  \nmoneysense.ca                1\ntodaysfarmer.ca              1\nanglican.ca                  1\nempireadvance.ca             1\nmelitanewera.ca              1\nName: website, Length: 129, dtype: int64"
     },
     "execution_count": 32,
     "metadata": {},
     "output_type": "execute_result"
    }
   ],
   "source": [
    "news_ca_df['website'].value_counts()"
   ]
  },
  {
   "cell_type": "code",
   "execution_count": 33,
   "metadata": {},
   "outputs": [],
   "source": [
    "ca_com_df = new_df[new_df.domain.isin(['ca', 'com'])]"
   ]
  },
  {
   "cell_type": "code",
   "execution_count": 34,
   "metadata": {},
   "outputs": [
    {
     "data": {
      "text/html": "<div>\n<style scoped>\n    .dataframe tbody tr th:only-of-type {\n        vertical-align: middle;\n    }\n\n    .dataframe tbody tr th {\n        vertical-align: top;\n    }\n\n    .dataframe thead th {\n        text-align: right;\n    }\n</style>\n<table border=\"1\" class=\"dataframe\">\n  <thead>\n    <tr style=\"text-align: right;\">\n      <th></th>\n      <th>website</th>\n      <th>category</th>\n      <th>domain</th>\n    </tr>\n  </thead>\n  <tbody>\n    <tr>\n      <th>0</th>\n      <td>freemalaysiatoday.com</td>\n      <td>category</td>\n      <td>com</td>\n    </tr>\n    <tr>\n      <th>1</th>\n      <td>msn.com</td>\n      <td>en-au</td>\n      <td>com</td>\n    </tr>\n    <tr>\n      <th>3</th>\n      <td>govtech.com</td>\n      <td>security</td>\n      <td>com</td>\n    </tr>\n    <tr>\n      <th>4</th>\n      <td>newsmax.com</td>\n      <td>finance</td>\n      <td>com</td>\n    </tr>\n    <tr>\n      <th>7</th>\n      <td>cavalierdaily.com</td>\n      <td>article</td>\n      <td>com</td>\n    </tr>\n    <tr>\n      <th>...</th>\n      <td>...</td>\n      <td>...</td>\n      <td>...</td>\n    </tr>\n    <tr>\n      <th>8917254</th>\n      <td>cbs58.com</td>\n      <td>news</td>\n      <td>com</td>\n    </tr>\n    <tr>\n      <th>8917255</th>\n      <td>alabamawx.com</td>\n      <td>?p=180845</td>\n      <td>com</td>\n    </tr>\n    <tr>\n      <th>8917256</th>\n      <td>wisn.com</td>\n      <td>article</td>\n      <td>com</td>\n    </tr>\n    <tr>\n      <th>8917257</th>\n      <td>xinhuanet.com</td>\n      <td>english</td>\n      <td>com</td>\n    </tr>\n    <tr>\n      <th>8917259</th>\n      <td>lubbockonline.com</td>\n      <td>news</td>\n      <td>com</td>\n    </tr>\n  </tbody>\n</table>\n<p>6379179 rows × 3 columns</p>\n</div>",
      "text/plain": "                       website   category domain\n0        freemalaysiatoday.com   category    com\n1                      msn.com      en-au    com\n3                  govtech.com   security    com\n4                  newsmax.com    finance    com\n7            cavalierdaily.com    article    com\n...                        ...        ...    ...\n8917254              cbs58.com       news    com\n8917255          alabamawx.com  ?p=180845    com\n8917256               wisn.com    article    com\n8917257          xinhuanet.com    english    com\n8917259      lubbockonline.com       news    com\n\n[6379179 rows x 3 columns]"
     },
     "execution_count": 34,
     "metadata": {},
     "output_type": "execute_result"
    }
   ],
   "source": [
    "ca_com_df"
   ]
  },
  {
   "cell_type": "code",
   "execution_count": 35,
   "metadata": {},
   "outputs": [
    {
     "data": {
      "text/plain": "(6379179, 3)"
     },
     "execution_count": 35,
     "metadata": {},
     "output_type": "execute_result"
    }
   ],
   "source": [
    "ca_com_df.shape"
   ]
  },
  {
   "cell_type": "code",
   "execution_count": 36,
   "metadata": {},
   "outputs": [],
   "source": [
    "news_ca_com_df =ca_com_df[ca_com_df.category  == \"news\"]"
   ]
  },
  {
   "cell_type": "code",
   "execution_count": 37,
   "metadata": {},
   "outputs": [
    {
     "data": {
      "text/html": "<div>\n<style scoped>\n    .dataframe tbody tr th:only-of-type {\n        vertical-align: middle;\n    }\n\n    .dataframe tbody tr th {\n        vertical-align: top;\n    }\n\n    .dataframe thead th {\n        text-align: right;\n    }\n</style>\n<table border=\"1\" class=\"dataframe\">\n  <thead>\n    <tr style=\"text-align: right;\">\n      <th></th>\n      <th>website</th>\n      <th>category</th>\n      <th>domain</th>\n    </tr>\n  </thead>\n  <tbody>\n    <tr>\n      <th>10</th>\n      <td>omaha.com</td>\n      <td>news</td>\n      <td>com</td>\n    </tr>\n    <tr>\n      <th>12</th>\n      <td>kelo.com</td>\n      <td>news</td>\n      <td>com</td>\n    </tr>\n    <tr>\n      <th>13</th>\n      <td>marklevinshow.com</td>\n      <td>news</td>\n      <td>com</td>\n    </tr>\n    <tr>\n      <th>14</th>\n      <td>cantonrep.com</td>\n      <td>news</td>\n      <td>com</td>\n    </tr>\n    <tr>\n      <th>17</th>\n      <td>koin.com</td>\n      <td>news</td>\n      <td>com</td>\n    </tr>\n    <tr>\n      <th>...</th>\n      <td>...</td>\n      <td>...</td>\n      <td>...</td>\n    </tr>\n    <tr>\n      <th>8917248</th>\n      <td>nhregister.com</td>\n      <td>news</td>\n      <td>com</td>\n    </tr>\n    <tr>\n      <th>8917252</th>\n      <td>salemnews.com</td>\n      <td>news</td>\n      <td>com</td>\n    </tr>\n    <tr>\n      <th>8917253</th>\n      <td>chron.com</td>\n      <td>news</td>\n      <td>com</td>\n    </tr>\n    <tr>\n      <th>8917254</th>\n      <td>cbs58.com</td>\n      <td>news</td>\n      <td>com</td>\n    </tr>\n    <tr>\n      <th>8917259</th>\n      <td>lubbockonline.com</td>\n      <td>news</td>\n      <td>com</td>\n    </tr>\n  </tbody>\n</table>\n<p>1728502 rows × 3 columns</p>\n</div>",
      "text/plain": "                   website category domain\n10               omaha.com     news    com\n12                kelo.com     news    com\n13       marklevinshow.com     news    com\n14           cantonrep.com     news    com\n17                koin.com     news    com\n...                    ...      ...    ...\n8917248     nhregister.com     news    com\n8917252      salemnews.com     news    com\n8917253          chron.com     news    com\n8917254          cbs58.com     news    com\n8917259  lubbockonline.com     news    com\n\n[1728502 rows x 3 columns]"
     },
     "execution_count": 37,
     "metadata": {},
     "output_type": "execute_result"
    }
   ],
   "source": [
    "news_ca_com_df"
   ]
  },
  {
   "cell_type": "code",
   "execution_count": 38,
   "metadata": {},
   "outputs": [
    {
     "data": {
      "text/plain": "sfgate.com            29334\nthehindu.com          25198\ncbc.ca                22716\ndawn.com              16746\nchron.com             13372\n                      ...  \nlarecord.com              1\nplaidhatgames.com         1\numfm.com                  1\nhaveagonews.com.au        1\nwebmd.com                 1\nName: website, Length: 4639, dtype: int64"
     },
     "execution_count": 38,
     "metadata": {},
     "output_type": "execute_result"
    }
   ],
   "source": [
    "news_ca_com_df['website'].value_counts()"
   ]
  },
  {
   "cell_type": "code",
   "execution_count": 39,
   "metadata": {},
   "outputs": [
    {
     "data": {
      "text/plain": "(6379179, 3)"
     },
     "execution_count": 39,
     "metadata": {},
     "output_type": "execute_result"
    }
   ],
   "source": [
    "ca_com_df.shape"
   ]
  },
  {
   "cell_type": "code",
   "execution_count": 40,
   "metadata": {},
   "outputs": [
    {
     "data": {
      "text/plain": "website\nmsn.com                  70737\nbusiness-standard.com    68745\nmenafn.com               45595\nallafrica.com            38547\nsfgate.com               36883\nthenews.com.pk           36200\nreuters.com              34976\nthehindu.com             30938\nwashingtonpost.com       30471\nnbcnews.com              29817\nindianexpress.com        29772\nxinhuanet.com            26664\ncbc.ca                   24548\ntheguardian.com          23767\nfoxnews.com              22338\ntimesnownews.com         21777\npatch.com                21697\nsunnewsonline.com        21573\nnytimes.com              20348\nchron.com                20055\nName: category, dtype: int64"
     },
     "execution_count": 40,
     "metadata": {},
     "output_type": "execute_result"
    }
   ],
   "source": [
    "ca_com_df.groupby('website')['category'].count().sort_values(ascending=False).head(20)"
   ]
  },
  {
   "cell_type": "code",
   "execution_count": 41,
   "metadata": {},
   "outputs": [],
   "source": [
    "forbes_df = df2.query('urlname.str.contains(\"forbes.com\")')"
   ]
  },
  {
   "cell_type": "code",
   "execution_count": 43,
   "metadata": {},
   "outputs": [
    {
     "data": {
      "text/plain": "(15149, 1)"
     },
     "execution_count": 43,
     "metadata": {},
     "output_type": "execute_result"
    }
   ],
   "source": [
    "forbes_df.shape"
   ]
  },
  {
   "cell_type": "code",
   "execution_count": 44,
   "metadata": {},
   "outputs": [],
   "source": [
    "forbes_df.to_csv('forbes.csv', header=True, index=None)"
   ]
  },
  {
   "cell_type": "code",
   "execution_count": 45,
   "metadata": {},
   "outputs": [],
   "source": [
    "globalnews_df = df2.query('urlname.str.contains(\"globalnews.ca\")')"
   ]
  },
  {
   "cell_type": "code",
   "execution_count": 46,
   "metadata": {},
   "outputs": [],
   "source": [
    "globalnews_df.to_csv('globalnews.csv', header=True, index=None)"
   ]
  },
  {
   "cell_type": "code",
   "execution_count": 47,
   "metadata": {},
   "outputs": [
    {
     "data": {
      "text/plain": "<bound method Series.unique of 0          category\n1             en-au\n2              post\n3          security\n4           finance\n             ...   \n8917256     article\n8917257     english\n8917258     english\n8917259        news\n8917260        news\nName: category, Length: 8917261, dtype: object>"
     },
     "execution_count": 47,
     "metadata": {},
     "output_type": "execute_result"
    }
   ],
   "source": [
    "new_df.category.unique"
   ]
  },
  {
   "cell_type": "code",
   "execution_count": 48,
   "metadata": {},
   "outputs": [],
   "source": [
    "category_df = new_df.category.unique()"
   ]
  },
  {
   "cell_type": "code",
   "execution_count": 49,
   "metadata": {},
   "outputs": [
    {
     "data": {
      "text/plain": "array(['category', 'en-au', 'post', ...,\n       'affordable-power-for-all-will-get-top-priority-in-next-5-yr-nasrul',\n       'new-year-nscdc-assure-adequate-security-in-kaduna', '?p=180845'],\n      dtype=object)"
     },
     "execution_count": 49,
     "metadata": {},
     "output_type": "execute_result"
    }
   ],
   "source": [
    "category_df"
   ]
  },
  {
   "cell_type": "code",
   "execution_count": 50,
   "metadata": {},
   "outputs": [],
   "source": [
    "import csv\n",
    "with open('category.csv','w') as result_file:\n",
    "    wr = csv.writer(result_file, dialect='excel')\n",
    "    wr.writerow(category_df)"
   ]
  },
  {
   "cell_type": "code",
   "execution_count": 51,
   "metadata": {},
   "outputs": [],
   "source": [
    "politics_ca_com_df =ca_com_df[ca_com_df.category  == \"politics\"]"
   ]
  },
  {
   "cell_type": "code",
   "execution_count": 52,
   "metadata": {},
   "outputs": [],
   "source": [
    "nbcnews_df = df2.query('urlname.str.contains(\"nbcnews.com/politics\")')"
   ]
  },
  {
   "cell_type": "code",
   "execution_count": 53,
   "metadata": {},
   "outputs": [],
   "source": [
    "nbcnews_df.to_csv('nbcnews.csv', header=True, index=None)"
   ]
  },
  {
   "cell_type": "code",
   "execution_count": 54,
   "metadata": {},
   "outputs": [
    {
     "data": {
      "text/plain": "(6530, 1)"
     },
     "execution_count": 54,
     "metadata": {},
     "output_type": "execute_result"
    }
   ],
   "source": [
    "nbcnews_df.shape"
   ]
  },
  {
   "cell_type": "code",
   "execution_count": 55,
   "metadata": {},
   "outputs": [],
   "source": [
    "movies_ca_com_df =ca_com_df[ca_com_df.category  == \"movies\"]"
   ]
  },
  {
   "cell_type": "code",
   "execution_count": 56,
   "metadata": {},
   "outputs": [],
   "source": [
    "hollywood_df = df2.query('urlname.str.contains(\"hollywood.com/movies\")')"
   ]
  },
  {
   "cell_type": "code",
   "execution_count": 57,
   "metadata": {},
   "outputs": [
    {
     "data": {
      "text/plain": "array(['wegotthiscovered.com', 'comicbook.com', 'digitalspy.com',\n       'people.com', 'empireonline.com', 'sify.com', 'ew.com', '98fm.com',\n       'uproxx.com', 'followingthenerd.com', 'straight.com',\n       '411mania.com', 'geek.com', 'clickthecity.com', 'flagpole.com',\n       'superherohype.com', 'digitaltrends.com', 'monstersandcritics.com',\n       'sfreporter.com', 'insing.com', 'guidelive.com', 'tribute.ca',\n       'metroactive.com', 'theringer.com', 'sandiegoreader.com',\n       'rediff.com', '2lt.com.au', 'rollingstone.com', 'wtop.com',\n       'tampabay.com', 'sbs.com.au', 'realclearlife.com',\n       'free-times.com', 'nowtoronto.com', 'nola.com', 'greatandhra.com',\n       'citypages.com', 'reelrundown.com', 'pride.com', 'sfgate.com',\n       'joblo.com', 'out.com', 'avn.com', 'syracuse.com',\n       'portlandmercury.com', 'popculture.com', 'flickdirect.com',\n       'revelist.com', 'sdentertainer.com', 'sfchronicle.com',\n       'afterellen.com', 'maoritelevision.com', 'allindiaroundup.com',\n       'popzara.com', 'thterrortime.com', 'bust.com', 'uptv.com',\n       'hollywood.com', 'hbo.com', 'mysanantonio.com', 'mylifetime.com',\n       'seattlepi.com', 'indiantelevision.com',\n       'imperatriznoticias.com.br', 'thehdroom.com', 'timesunion.com'],\n      dtype=object)"
     },
     "execution_count": 57,
     "metadata": {},
     "output_type": "execute_result"
    }
   ],
   "source": [
    "movies_ca_com_df.website.unique()"
   ]
  },
  {
   "cell_type": "code",
   "execution_count": 58,
   "metadata": {},
   "outputs": [
    {
     "data": {
      "text/plain": "wegotthiscovered.com    629\ndigitalspy.com          403\new.com                  327\nsify.com                300\nempireonline.com        292\n                       ... \nsyracuse.com              1\nbust.com                  1\nfree-times.com            1\nthehdroom.com             1\ntimesunion.com            1\nName: website, Length: 66, dtype: int64"
     },
     "execution_count": 58,
     "metadata": {},
     "output_type": "execute_result"
    }
   ],
   "source": [
    "movies_ca_com_df['website'].value_counts()"
   ]
  },
  {
   "cell_type": "code",
   "execution_count": 59,
   "metadata": {},
   "outputs": [],
   "source": [
    "category_all = new_df['category'].value_counts()"
   ]
  },
  {
   "cell_type": "code",
   "execution_count": 60,
   "metadata": {},
   "outputs": [
    {
     "name": "stdout",
     "output_type": "stream",
     "text": "news                                                                             2373779\n2019                                                                              968988\narticle                                                                           462365\nstory                                                                             207850\nopinion                                                                           144013\n                                                                                  ...   \nharvey-weinstein-pleads-not-guilty-to-new-charges-of-predatory-sexual-assault          1\nbaby-killer-kathleen-folbigg-testifies-about-her-diaries                               1\nindonesias-ministry-of-tourism-partners-to-boost-tourism-through-technology            1\ndriver-ditches-burning-car-after-driving-into-tree-in-southeast-fresno                 1\nAnother-military-service-member-securing-border-found-dead-southern-AZ                 1\nName: category, Length: 1213370, dtype: int64\n"
    }
   ],
   "source": [
    "print(category_all)"
   ]
  },
  {
   "cell_type": "code",
   "execution_count": 62,
   "metadata": {},
   "outputs": [],
   "source": [
    "import csv\n",
    "with open('category_all.csv','w') as result_file:\n",
    "    wr = csv.writer(result_file, dialect='excel')\n",
    "    wr.writerow(category_all)"
   ]
  },
  {
   "cell_type": "code",
   "execution_count": 63,
   "metadata": {},
   "outputs": [],
   "source": [
    "lifestyle_df = df2.query('urlname.str.contains(\"lifestyle\")')"
   ]
  },
  {
   "cell_type": "code",
   "execution_count": 64,
   "metadata": {},
   "outputs": [
    {
     "data": {
      "text/plain": "(50097, 1)"
     },
     "execution_count": 64,
     "metadata": {},
     "output_type": "execute_result"
    }
   ],
   "source": [
    "lifestyle_df.shape"
   ]
  },
  {
   "cell_type": "code",
   "execution_count": 67,
   "metadata": {},
   "outputs": [
    {
     "data": {
      "text/plain": "array(['sandiegouniontribune.com/lifestyle/food-and-cooking/sd-fo-product-kpop-sauces-20190226-story.html',\n       'thecourier.co.uk/lifestyle/837181/eastenders-ruby-allen-begs-for-forgiveness-after-confronting-sex-assault-victim',\n       'msn.com/en-nz/lifestyle/lifestylegeneral/what-the-queen-thinks-about-duchess-meghan-working-late-into-her-pregnancy/ar-BBU7V4L',\n       ...,\n       'afr.com/lifestyle/health/a-map-of-the-brains-genetic-landscape-20181214-h1959s',\n       'thecourier.co.uk/lifestyle/794462/doctor-who-viewers-unimpressed-with-brexit-reference',\n       'scotsman.com/lifestyle/2019-preview-scotland-set-for-year-of-anniversaries-and-reflection-1-4850900'],\n      dtype=object)"
     },
     "execution_count": 67,
     "metadata": {},
     "output_type": "execute_result"
    }
   ],
   "source": [
    "lifestyle_df.urlname.unique()"
   ]
  },
  {
   "cell_type": "code",
   "execution_count": 69,
   "metadata": {},
   "outputs": [
    {
     "data": {
      "text/plain": "msn.com/en-in/lifestyle/lifestylebuzz/chantel-jeffries-shops-for-the-perfect-pair-of-heels/vi-BBTUKyJ                                               2\nmsn.com/en-in/lifestyle/whats-hot/crying-fair-5-reasons-why-we-are-still-talking-about-fairness-and-light-skinned-complexions-in-2019/ar-BBWlecw    2\nsungazette.com/life/lifestyle-news/2019/07/muncy-man-celebrates-apollo-11s-50th-anniversary                                                         2\nkonbini.com/en/lifestyle/instagrammers-love-it-but-this-russian-turquoi-lake-actually-toxic                                                         2\nsurfky.com/index.php/151-lifestyles/lifestyles-hopkins/137276-james-sanchez-lead-storm-in-region-archery-tournament                                 2\n                                                                                                                                                   ..\nwashingtonpost.com/lifestyle/style/bruce-springsteen-and-madonna-are-subcultures-now/2019/06/17/d0834560-910c-11e9-b570-6416efdc0803_story.html     1\ngonintendo.com/stories/330604-tetris-brand-announced-major-expansion-of-lifestyle-brand-portfol                                                     1\nironmountaindailynews.com/lifestyles/life/2019/01/its-better-to-make-life-resolutions-not-new-years-ones                                            1\nvtdigger.org/2019/04/16/chuck-mercier-rethinking-plastics-lifestyle                                                                                 1\nenewscourier.com/news/lifestyles/alabama-historical-commission-announces-grant-program/article_f38e3c1a-afeb-11e9-a537-3b333e004bd6.html            1\nName: urlname, Length: 49956, dtype: int64"
     },
     "execution_count": 69,
     "metadata": {},
     "output_type": "execute_result"
    }
   ],
   "source": [
    "lifestyle_df['urlname'].value_counts()"
   ]
  },
  {
   "cell_type": "code",
   "execution_count": 70,
   "metadata": {},
   "outputs": [
    {
     "data": {
      "text/html": "<div>\n<style scoped>\n    .dataframe tbody tr th:only-of-type {\n        vertical-align: middle;\n    }\n\n    .dataframe tbody tr th {\n        vertical-align: top;\n    }\n\n    .dataframe thead th {\n        text-align: right;\n    }\n</style>\n<table border=\"1\" class=\"dataframe\">\n  <thead>\n    <tr style=\"text-align: right;\">\n      <th></th>\n      <th>urlname</th>\n    </tr>\n  </thead>\n  <tbody>\n    <tr>\n      <th>89</th>\n      <td>sandiegouniontribune.com/lifestyle/food-and-co...</td>\n    </tr>\n    <tr>\n      <th>1145</th>\n      <td>thecourier.co.uk/lifestyle/837181/eastenders-r...</td>\n    </tr>\n    <tr>\n      <th>1172</th>\n      <td>msn.com/en-nz/lifestyle/lifestylegeneral/what-...</td>\n    </tr>\n    <tr>\n      <th>1397</th>\n      <td>msn.com/en-nz/lifestyle/style/selfridges-becom...</td>\n    </tr>\n    <tr>\n      <th>1535</th>\n      <td>yahoo.com/lifestyle/heaven-strict-immigration-...</td>\n    </tr>\n    <tr>\n      <th>...</th>\n      <td>...</td>\n    </tr>\n    <tr>\n      <th>8916745</th>\n      <td>scmp.com/lifestyle/interiors-living/article/21...</td>\n    </tr>\n    <tr>\n      <th>8916843</th>\n      <td>afr.com/lifestyle/ray-hill-preacher-cat-burgla...</td>\n    </tr>\n    <tr>\n      <th>8916880</th>\n      <td>afr.com/lifestyle/health/a-map-of-the-brains-g...</td>\n    </tr>\n    <tr>\n      <th>8917034</th>\n      <td>thecourier.co.uk/lifestyle/794462/doctor-who-v...</td>\n    </tr>\n    <tr>\n      <th>8917107</th>\n      <td>scotsman.com/lifestyle/2019-preview-scotland-s...</td>\n    </tr>\n  </tbody>\n</table>\n<p>50097 rows × 1 columns</p>\n</div>",
      "text/plain": "                                                   urlname\n89       sandiegouniontribune.com/lifestyle/food-and-co...\n1145     thecourier.co.uk/lifestyle/837181/eastenders-r...\n1172     msn.com/en-nz/lifestyle/lifestylegeneral/what-...\n1397     msn.com/en-nz/lifestyle/style/selfridges-becom...\n1535     yahoo.com/lifestyle/heaven-strict-immigration-...\n...                                                    ...\n8916745  scmp.com/lifestyle/interiors-living/article/21...\n8916843  afr.com/lifestyle/ray-hill-preacher-cat-burgla...\n8916880  afr.com/lifestyle/health/a-map-of-the-brains-g...\n8917034  thecourier.co.uk/lifestyle/794462/doctor-who-v...\n8917107  scotsman.com/lifestyle/2019-preview-scotland-s...\n\n[50097 rows x 1 columns]"
     },
     "execution_count": 70,
     "metadata": {},
     "output_type": "execute_result"
    }
   ],
   "source": [
    "lifestyle_df"
   ]
  },
  {
   "cell_type": "code",
   "execution_count": 71,
   "metadata": {},
   "outputs": [],
   "source": [
    "lifestyle_df.to_csv('lifestyle.csv', header=True, index=None)"
   ]
  },
  {
   "cell_type": "code",
   "execution_count": 72,
   "metadata": {},
   "outputs": [],
   "source": [
    "# collecting website address from the original dataframe\n",
    "forbes_df_new = df.query('sourceurl.str.contains(\"forbes.com\")')"
   ]
  },
  {
   "cell_type": "code",
   "execution_count": 79,
   "metadata": {},
   "outputs": [
    {
     "data": {
      "text/html": "<div>\n<style scoped>\n    .dataframe tbody tr th:only-of-type {\n        vertical-align: middle;\n    }\n\n    .dataframe tbody tr th {\n        vertical-align: top;\n    }\n\n    .dataframe thead th {\n        text-align: right;\n    }\n</style>\n<table border=\"1\" class=\"dataframe\">\n  <thead>\n    <tr style=\"text-align: right;\">\n      <th></th>\n      <th>sourceurl</th>\n    </tr>\n  </thead>\n  <tbody>\n    <tr>\n      <th>15244</th>\n      <td>https://www.forbes.com/sites/paulspiegelman/20...</td>\n    </tr>\n    <tr>\n      <th>15257</th>\n      <td>https://www.forbes.com/sites/virgietovar/2019/...</td>\n    </tr>\n    <tr>\n      <th>21507</th>\n      <td>https://www.forbes.com/sites/meriameberboucha/...</td>\n    </tr>\n    <tr>\n      <th>22100</th>\n      <td>https://www.forbes.com/colleges/george-mason-u...</td>\n    </tr>\n    <tr>\n      <th>22157</th>\n      <td>https://www.forbes.com/colleges/george-mason-u...</td>\n    </tr>\n  </tbody>\n</table>\n</div>",
      "text/plain": "                                               sourceurl\n15244  https://www.forbes.com/sites/paulspiegelman/20...\n15257  https://www.forbes.com/sites/virgietovar/2019/...\n21507  https://www.forbes.com/sites/meriameberboucha/...\n22100  https://www.forbes.com/colleges/george-mason-u...\n22157  https://www.forbes.com/colleges/george-mason-u..."
     },
     "execution_count": 79,
     "metadata": {},
     "output_type": "execute_result"
    }
   ],
   "source": [
    "forbes_df_new.head()"
   ]
  },
  {
   "cell_type": "code",
   "execution_count": 80,
   "metadata": {},
   "outputs": [
    {
     "data": {
      "text/plain": "array(['https://www.forbes.com/sites/paulspiegelman/2019/02/26/in-this-health-care-organization-core-values-are-more-contagious-than-the-flu/',\n       'https://www.forbes.com/sites/virgietovar/2019/02/26/first-ever-transgender-cultural-district-co-founded-by-xlbosslady-aria-said/',\n       'https://www.forbes.com/sites/meriameberboucha/2019/02/26/nasa-will-carry-out-drone-tests-in-nevada-texas/',\n       ...,\n       'https://www.forbes.com/sites/jenniferhicks/2019/01/01/here-are-six-robot-and-smart-device-predictions-for-2019/',\n       'https://www.forbes.com/sites/yolarobert1/2019/01/01/the-founder-of-suja-juice-annie-lawless-is-reimagining-clean-makeup/',\n       'https://www.forbes.com/sites/andrewhusband/2019/01/01/netflix-patriot-act-hasan-minhaj-saudi-arabia-episode/'],\n      dtype=object)"
     },
     "execution_count": 80,
     "metadata": {},
     "output_type": "execute_result"
    }
   ],
   "source": [
    "forbes_df_new.sourceurl.unique()"
   ]
  },
  {
   "cell_type": "code",
   "execution_count": null,
   "metadata": {},
   "outputs": [],
   "source": [
    "forbes_df_new.to_csv('forbes2.csv', header=True, index=None)"
   ]
  },
  {
   "cell_type": "code",
   "execution_count": 82,
   "metadata": {},
   "outputs": [
    {
     "data": {
      "text/html": "<div>\n<style scoped>\n    .dataframe tbody tr th:only-of-type {\n        vertical-align: middle;\n    }\n\n    .dataframe tbody tr th {\n        vertical-align: top;\n    }\n\n    .dataframe thead th {\n        text-align: right;\n    }\n</style>\n<table border=\"1\" class=\"dataframe\">\n  <thead>\n    <tr style=\"text-align: right;\">\n      <th></th>\n      <th>sourceurl</th>\n    </tr>\n  </thead>\n  <tbody>\n    <tr>\n      <th>15244</th>\n      <td>https://www.forbes.com/sites/paulspiegelman/20...</td>\n    </tr>\n    <tr>\n      <th>15257</th>\n      <td>https://www.forbes.com/sites/virgietovar/2019/...</td>\n    </tr>\n    <tr>\n      <th>21507</th>\n      <td>https://www.forbes.com/sites/meriameberboucha/...</td>\n    </tr>\n    <tr>\n      <th>22100</th>\n      <td>https://www.forbes.com/colleges/george-mason-u...</td>\n    </tr>\n    <tr>\n      <th>22157</th>\n      <td>https://www.forbes.com/colleges/george-mason-u...</td>\n    </tr>\n  </tbody>\n</table>\n</div>",
      "text/plain": "                                               sourceurl\n15244  https://www.forbes.com/sites/paulspiegelman/20...\n15257  https://www.forbes.com/sites/virgietovar/2019/...\n21507  https://www.forbes.com/sites/meriameberboucha/...\n22100  https://www.forbes.com/colleges/george-mason-u...\n22157  https://www.forbes.com/colleges/george-mason-u..."
     },
     "execution_count": 82,
     "metadata": {},
     "output_type": "execute_result"
    }
   ],
   "source": [
    "forbes_df_new.head(5)"
   ]
  },
  {
   "cell_type": "code",
   "execution_count": 83,
   "metadata": {},
   "outputs": [],
   "source": [
    "forbes_df_new.to_csv('forbes2.csv', header=True, index=None)"
   ]
  },
  {
   "cell_type": "code",
   "execution_count": null,
   "metadata": {},
   "outputs": [],
   "source": []
  }
 ]
}