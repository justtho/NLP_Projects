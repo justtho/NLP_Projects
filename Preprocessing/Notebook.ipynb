{
 "nbformat": 4,
 "nbformat_minor": 2,
 "metadata": {
  "language_info": {
   "name": "python",
   "codemirror_mode": {
    "name": "ipython",
    "version": 3
   },
   "version": "3.6.4-final"
  },
  "orig_nbformat": 2,
  "file_extension": ".py",
  "mimetype": "text/x-python",
  "name": "python",
  "npconvert_exporter": "python",
  "pygments_lexer": "ipython3",
  "version": 3,
  "kernelspec": {
   "name": "python36464bitprojectspipenv9c915503f78c4ce7a1c9173e5ab82328",
   "display_name": "Python 3.6.4 64-bit ('projects': pipenv)"
  }
 },
 "cells": [
  {
   "cell_type": "code",
   "execution_count": 4,
   "metadata": {},
   "outputs": [],
   "source": [
    "%load get_url.py"
   ]
  },
  {
   "cell_type": "code",
   "execution_count": 5,
   "metadata": {},
   "outputs": [],
   "source": [
    "from get_url import get_url"
   ]
  },
  {
   "cell_type": "code",
   "execution_count": 6,
   "metadata": {},
   "outputs": [
    {
     "data": {
      "text/plain": "array(['https://cnnphilippines.com:443/world/2019/11/29/Trump-Taliban-talks-Afghanistan-visit.html',\n       'http://www.1050talk.com/news/president-trump-announces-taliban-talks-have-restarted-on-surprise-afghanistan-visit/',\n       'https://www.kcrg.com/content/news/Trump-in-Afghanistan-for-surprise-Thanksgiving-visit-565583831.html',\n       ...,\n       'http://bronx.news12.com/story/41364047/bronx-native-gives-back-to-community-with-turkey-giveaway',\n       'https://sputniknews.com/us/201911241077386409-us-navy-secretary-refutes-resignation-in-row-with-trump-over-convicted-navy-seal---report/',\n       'https://comicbook.com/marvel/2019/11/23/avengers-endgame-thanos-nearly-brought-all-heroes-back-before-fight/'],\n      dtype=object)"
     },
     "execution_count": 6,
     "metadata": {},
     "output_type": "execute_result"
    }
   ],
   "source": [
    "get_url()"
   ]
  },
  {
   "cell_type": "code",
   "execution_count": null,
   "metadata": {},
   "outputs": [],
   "source": []
  }
 ]
}